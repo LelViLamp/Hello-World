{
 "metadata": {
  "language_info": {
   "codemirror_mode": {
    "name": "ipython",
    "version": 3
   },
   "file_extension": ".py",
   "mimetype": "text/x-python",
   "name": "python",
   "nbconvert_exporter": "python",
   "pygments_lexer": "ipython3",
   "version": "3.7.10"
  },
  "orig_nbformat": 4,
  "kernelspec": {
   "name": "python3",
   "display_name": "Python 3.7.10 64-bit ('20w-nndl': conda)"
  },
  "interpreter": {
   "hash": "c9916ee88bb2b9f307c9becfffd0ec81a671dab17fc3594eb0a3e3d21570bace"
  }
 },
 "nbformat": 4,
 "nbformat_minor": 2,
 "cells": [
  {
   "cell_type": "code",
   "execution_count": 1,
   "metadata": {},
   "outputs": [],
   "source": [
    "# https://www.youtube.com/watch?v=eMANirufY9Q&list=PLxgDUj5eygKnSd4MYHIuAC7E3VEPm_WLO&index=11\n",
    "# NumPy exercide\n",
    "import numpy as np"
   ]
  },
  {
   "cell_type": "code",
   "execution_count": null,
   "metadata": {},
   "outputs": [],
   "source": [
    "# speed test dot product numpy vs. list\n",
    "# similar here for matrix multiplication\n",
    "# 1) implement m-m-multiplication using LISTS\n",
    "# 2) implement m-m-multiplication using NUMPY\n",
    "# 3) compare them speed-wise\n",
    "# 4) manipulate input size --> O"
   ]
  }
 ]
}