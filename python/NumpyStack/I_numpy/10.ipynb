{
 "metadata": {
  "language_info": {
   "codemirror_mode": {
    "name": "ipython",
    "version": 3
   },
   "file_extension": ".py",
   "mimetype": "text/x-python",
   "name": "python",
   "nbconvert_exporter": "python",
   "pygments_lexer": "ipython3",
   "version": "3.7.10"
  },
  "orig_nbformat": 4,
  "kernelspec": {
   "name": "python3",
   "display_name": "Python 3.7.10 64-bit ('20w-nndl': conda)"
  },
  "interpreter": {
   "hash": "c9916ee88bb2b9f307c9becfffd0ec81a671dab17fc3594eb0a3e3d21570bace"
  }
 },
 "nbformat": 4,
 "nbformat_minor": 2,
 "cells": [
  {
   "cell_type": "code",
   "execution_count": 2,
   "metadata": {},
   "outputs": [],
   "source": [
    "# https://www.youtube.com/watch?v=WASuVuALYVE&list=PLxgDUj5eygKnSd4MYHIuAC7E3VEPm_WLO&index=10\n",
    "# Generating data\n",
    "\n",
    "# NNs need randomly initialised large matrices\n",
    "# synthetic data to test algorithms to check how a model performs on our generated data we know the answer to\n",
    "\n",
    "import numpy as np"
   ]
  },
  {
   "cell_type": "code",
   "execution_count": 3,
   "metadata": {},
   "outputs": [
    {
     "output_type": "execute_result",
     "data": {
      "text/plain": [
       "array([[0., 0., 0.],\n",
       "       [0., 0., 0.]])"
      ]
     },
     "metadata": {},
     "execution_count": 3
    }
   ],
   "source": [
    "# all-zeroes array\n",
    "np.zeros((2,3))"
   ]
  },
  {
   "cell_type": "code",
   "execution_count": 4,
   "metadata": {},
   "outputs": [
    {
     "output_type": "execute_result",
     "data": {
      "text/plain": [
       "array([[1., 1., 1.],\n",
       "       [1., 1., 1.]])"
      ]
     },
     "metadata": {},
     "execution_count": 4
    }
   ],
   "source": [
    "np.ones((2,3))"
   ]
  },
  {
   "cell_type": "code",
   "execution_count": 5,
   "metadata": {},
   "outputs": [
    {
     "output_type": "execute_result",
     "data": {
      "text/plain": [
       "array([[3., 3., 3.],\n",
       "       [3., 3., 3.]])"
      ]
     },
     "metadata": {},
     "execution_count": 5
    }
   ],
   "source": [
    "# you pass in the dimension of the array\n",
    "# any numer: multiply scalar with ones\n",
    "3 * np.ones((2,3))"
   ]
  },
  {
   "cell_type": "code",
   "execution_count": 6,
   "metadata": {},
   "outputs": [
    {
     "output_type": "execute_result",
     "data": {
      "text/plain": [
       "array([[1., 0., 0.],\n",
       "       [0., 1., 0.],\n",
       "       [0., 0., 1.]])"
      ]
     },
     "metadata": {},
     "execution_count": 6
    }
   ],
   "source": [
    "# identity -> I but it's just one letter and therefore confusing\n",
    "# --> same pronunciation --> eye function\n",
    "np.eye(3)"
   ]
  },
  {
   "cell_type": "code",
   "execution_count": 7,
   "metadata": {},
   "outputs": [
    {
     "output_type": "execute_result",
     "data": {
      "text/plain": [
       "0.8245777689465151"
      ]
     },
     "metadata": {},
     "execution_count": 7
    }
   ],
   "source": [
    "# (pseudo) random numbers --> random module\n",
    "np.random.random()"
   ]
  },
  {
   "cell_type": "code",
   "execution_count": 9,
   "metadata": {},
   "outputs": [
    {
     "output_type": "execute_result",
     "data": {
      "text/plain": [
       "array([[0.28115244, 0.34250206, 0.5812974 ],\n",
       "       [0.97260584, 0.6481125 , 0.59052605]])"
      ]
     },
     "metadata": {},
     "execution_count": 9
    }
   ],
   "source": [
    "np.random.random((2,3))"
   ]
  },
  {
   "cell_type": "code",
   "execution_count": 10,
   "metadata": {},
   "outputs": [
    {
     "output_type": "execute_result",
     "data": {
      "text/plain": [
       "array([[ 1.0679606 ,  0.46119455, -0.91956657],\n",
       "       [-0.71811413, -0.88089943, -1.14928064]])"
      ]
     },
     "metadata": {},
     "execution_count": 10
    }
   ],
   "source": [
    "# which distribution are the random numbers drawn from?\n",
    "# uniform\n",
    "# standard normal distribution --> Gaussian --> randn function\n",
    "np.random.randn(2, 3)\n",
    "# does not take a touple but just the dimensions as a list of integers"
   ]
  },
  {
   "cell_type": "code",
   "execution_count": 11,
   "metadata": {},
   "outputs": [
    {
     "output_type": "execute_result",
     "data": {
      "text/plain": [
       "-0.007516379352044828"
      ]
     },
     "metadata": {},
     "execution_count": 11
    }
   ],
   "source": [
    "# let's do some low-level stats\n",
    "R = np.random.randn(10_000)\n",
    "R.mean()"
   ]
  },
  {
   "cell_type": "code",
   "execution_count": 12,
   "metadata": {},
   "outputs": [
    {
     "output_type": "execute_result",
     "data": {
      "text/plain": [
       "-0.007516379352044828"
      ]
     },
     "metadata": {},
     "execution_count": 12
    }
   ],
   "source": [
    "# top-level as well as an instance function\n",
    "np.mean(R)"
   ]
  },
  {
   "cell_type": "code",
   "execution_count": 17,
   "metadata": {},
   "outputs": [
    {
     "output_type": "stream",
     "name": "stdout",
     "text": [
      "1.005350951558687\n1.005350951558687\n"
     ]
    }
   ],
   "source": [
    "# variance\n",
    "print(\n",
    "    R.var(),\n",
    "    np.var(R), sep=\"\\n\")"
   ]
  },
  {
   "cell_type": "code",
   "execution_count": 16,
   "metadata": {},
   "outputs": [
    {
     "output_type": "stream",
     "name": "stdout",
     "text": [
      "1.0026719062378715 1.0026719062378715\n"
     ]
    }
   ],
   "source": [
    "print(\n",
    "    R.std(),\n",
    "    np.std(R), sep=\"\\n\")"
   ]
  },
  {
   "cell_type": "code",
   "execution_count": 18,
   "metadata": {},
   "outputs": [],
   "source": [
    "R = np.random.randn(10_000, 3)"
   ]
  },
  {
   "cell_type": "code",
   "execution_count": 24,
   "metadata": {},
   "outputs": [
    {
     "output_type": "execute_result",
     "data": {
      "text/plain": [
       "array([ 0.01337531, -0.00944926,  0.02181383])"
      ]
     },
     "metadata": {},
     "execution_count": 24
    }
   ],
   "source": [
    "R.mean(axis=0)"
   ]
  },
  {
   "cell_type": "code",
   "execution_count": 25,
   "metadata": {},
   "outputs": [
    {
     "output_type": "execute_result",
     "data": {
      "text/plain": [
       "(3,)"
      ]
     },
     "metadata": {},
     "execution_count": 25
    }
   ],
   "source": [
    "R.mean(axis=0).shape"
   ]
  },
  {
   "cell_type": "code",
   "execution_count": 26,
   "metadata": {},
   "outputs": [
    {
     "output_type": "execute_result",
     "data": {
      "text/plain": [
       "array([-0.5021831 ,  0.48960014, -0.17838357, ..., -0.14490095,\n",
       "       -0.9194655 , -0.25656182])"
      ]
     },
     "metadata": {},
     "execution_count": 26
    }
   ],
   "source": [
    "R.mean(axis=1)"
   ]
  },
  {
   "cell_type": "code",
   "execution_count": 27,
   "metadata": {},
   "outputs": [
    {
     "output_type": "execute_result",
     "data": {
      "text/plain": [
       "(10000,)"
      ]
     },
     "metadata": {},
     "execution_count": 27
    }
   ],
   "source": [
    "R.mean(axis=1).shape"
   ]
  },
  {
   "cell_type": "code",
   "execution_count": 29,
   "metadata": {},
   "outputs": [
    {
     "output_type": "execute_result",
     "data": {
      "text/plain": [
       "array([[ 1.59447183,  1.07295379,  0.14361864, ..., -0.56563824,\n",
       "        -0.0628617 ,  0.40826414],\n",
       "       [ 1.07295379,  1.54454488, -1.20714618, ...,  0.52353572,\n",
       "        -0.4076409 , -0.59689808],\n",
       "       [ 0.14361864, -1.20714618,  2.07956659, ..., -1.48413649,\n",
       "         0.57343612,  1.41838557],\n",
       "       ...,\n",
       "       [-0.56563824,  0.52353572, -1.48413649, ...,  1.19456157,\n",
       "        -0.37929876, -1.10296587],\n",
       "       [-0.0628617 , -0.4076409 ,  0.57343612, ..., -0.37929876,\n",
       "         0.1647496 ,  0.37105096],\n",
       "       [ 0.40826414, -0.59689808,  1.41838557, ..., -1.10296587,\n",
       "         0.37105096,  1.02819011]])"
      ]
     },
     "metadata": {},
     "execution_count": 29
    }
   ],
   "source": [
    "# rows:     records\n",
    "# columns:  measures\n",
    "# --> row is a vector of observations\n",
    "# covariance --> cov function\n",
    "np.cov(R)"
   ]
  },
  {
   "cell_type": "code",
   "execution_count": 32,
   "metadata": {},
   "outputs": [
    {
     "output_type": "execute_result",
     "data": {
      "text/plain": [
       "(10000, 10000)"
      ]
     },
     "metadata": {},
     "execution_count": 32
    }
   ],
   "source": [
    "np.cov(R).shape\n",
    "# 10_000 by 10_000\n",
    "# each column gets treated as a vector of observations\n",
    "# this is not following the convention, but specific to NUMPY"
   ]
  },
  {
   "cell_type": "code",
   "execution_count": 33,
   "metadata": {},
   "outputs": [
    {
     "output_type": "execute_result",
     "data": {
      "text/plain": [
       "array([[ 0.98655186, -0.01095631, -0.00281281],\n",
       "       [-0.01095631,  0.99006806,  0.01642548],\n",
       "       [-0.00281281,  0.01642548,  0.99229486]])"
      ]
     },
     "metadata": {},
     "execution_count": 33
    }
   ],
   "source": [
    "np.cov(R.T)"
   ]
  },
  {
   "cell_type": "code",
   "execution_count": 34,
   "metadata": {},
   "outputs": [
    {
     "output_type": "execute_result",
     "data": {
      "text/plain": [
       "(3, 3)"
      ]
     },
     "metadata": {},
     "execution_count": 34
    }
   ],
   "source": [
    "np.cov(R.T).shape"
   ]
  },
  {
   "cell_type": "code",
   "execution_count": 35,
   "metadata": {},
   "outputs": [
    {
     "output_type": "execute_result",
     "data": {
      "text/plain": [
       "array([[ 0.98655186, -0.01095631, -0.00281281],\n",
       "       [-0.01095631,  0.99006806,  0.01642548],\n",
       "       [-0.00281281,  0.01642548,  0.99229486]])"
      ]
     },
     "metadata": {},
     "execution_count": 35
    }
   ],
   "source": [
    "np.cov(R, rowvar=False)"
   ]
  },
  {
   "cell_type": "code",
   "execution_count": 40,
   "metadata": {},
   "outputs": [
    {
     "output_type": "execute_result",
     "data": {
      "text/plain": [
       "array([[4, 3, 1, 2, 3, 1, 6, 9, 8, 6],\n",
       "       [2, 3, 3, 8, 5, 2, 7, 0, 3, 8]])"
      ]
     },
     "metadata": {},
     "execution_count": 40
    }
   ],
   "source": [
    "# randomly generate integers\n",
    "np.random.randint(low=0, high=10, size=(2,10))\n",
    "# low inclusive, high is exclusive, as usual for python"
   ]
  },
  {
   "cell_type": "code",
   "execution_count": 42,
   "metadata": {},
   "outputs": [
    {
     "output_type": "execute_result",
     "data": {
      "text/plain": [
       "array([[8, 8, 4],\n",
       "       [5, 5, 5],\n",
       "       [4, 0, 5]])"
      ]
     },
     "metadata": {},
     "execution_count": 42
    }
   ],
   "source": [
    "np.random.choice(10, size=(3, 3))\n",
    "# replace"
   ]
  },
  {
   "cell_type": "code",
   "execution_count": null,
   "metadata": {},
   "outputs": [],
   "source": []
  }
 ]
}