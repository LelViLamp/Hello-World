{
 "metadata": {
  "language_info": {
   "codemirror_mode": {
    "name": "ipython",
    "version": 3
   },
   "file_extension": ".py",
   "mimetype": "text/x-python",
   "name": "python",
   "nbconvert_exporter": "python",
   "pygments_lexer": "ipython3",
   "version": 3
  },
  "orig_nbformat": 4
 },
 "nbformat": 4,
 "nbformat_minor": 2,
 "cells": [
  {
   "cell_type": "code",
   "execution_count": null,
   "metadata": {},
   "outputs": [],
   "source": [
    "# https://www.youtube.com/watch?v=tGVVCOjWupY&list=PLxgDUj5eygKnSd4MYHIuAC7E3VEPm_WLO&index=18\n",
    "# PANDAS section\n",
    "# read, write and manipulate data\n",
    "# but just a quick guide through we'll skip a lot\n",
    "# like data frames in R <3"
   ]
  }
 ]
}